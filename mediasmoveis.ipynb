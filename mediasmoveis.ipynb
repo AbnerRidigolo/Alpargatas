{
 "cells": [
  {
   "cell_type": "markdown",
   "id": "05f73ac3-001e-435a-9871-3a5b02414285",
   "metadata": {},
   "source": [
    "\n",
    "# Projeto 1: Estratégia Anti-Crise - Análise Técnica usando médias móveis em ALPA4. (+300% contra -90% do ativo)\n",
    "\n",
    "### Desafio:\n",
    "\n",
    "* Testar historicamente um modelo que compra e venda ALPA4 baseado no cruzamento de médias móveis. \n",
    "\n",
    "### Passo a passo:\n",
    "\n",
    "   **Passo 1** - Importar as bibliotecas.\n",
    "   \n",
    "   **Passo 2** - Pegar os dados do Yahoo Finance.\n",
    "   \n",
    "   **Passo 3** - Definir as janelas das médias móveis. \n",
    "   \n",
    "   **Passo 4** - Calcular as médias móveis.\n",
    "   \n",
    "   **Passo 5** - Calcular o retorno diário da ação.\n",
    "   \n",
    "   **Passo 6** - Criar os sinais de compra ou venda. \n",
    "   \n",
    "   **Passo 7** - Calcular o retorno do modelo.\n",
    "   \n",
    "   **Passo 8** - Calcular o retorno da ação e do Ibovespa no mesmo período.\n",
    "\n",
    "   **Passo 9** - Criar o gráfico de retornos para observar o resultado da estratégia.\n",
    "\n",
    "   **Passo 10** - Otimizar os parâmetros pra gerar melhores resultados.\n",
    "\n",
    "   ***\n",
    "   \n",
    "-------------------"
   ]
  },
  {
   "cell_type": "markdown",
   "id": "da64aacc-38e2-4bf0-bb51-a86e80c9f179",
   "metadata": {},
   "source": [
    "# Passo 1 - Importar as bibliotecas"
   ]
  },
  {
   "cell_type": "code",
   "execution_count": null,
   "id": "43593286-6aec-4737-8c6c-cd9b1035cc89",
   "metadata": {},
   "outputs": [],
   "source": [
    "!pip install yfinance==0.2.58"
   ]
  },
  {
   "cell_type": "code",
   "execution_count": null,
   "id": "ab5eff1f-a5c9-4178-9584-a597236ef7e6",
   "metadata": {},
   "outputs": [],
   "source": [
    "!pip install mplcyberpunk"
   ]
  },
  {
   "cell_type": "code",
   "execution_count": null,
   "id": "0706331b-87d0-44e9-b761-d6bb03c4fa3f",
   "metadata": {},
   "outputs": [],
   "source": [
    "import yfinance as yf\n",
    "import pandas as pd\n",
    "import matplotlib.pyplot as plt\n",
    "import numpy as np\n",
    "import mplcyberpunk\n",
    "\n",
    "plt.style.use(\"cyberpunk\")"
   ]
  },
  {
   "cell_type": "markdown",
   "id": "6ed2cde6-6408-4066-88a0-0d4294c5119a",
   "metadata": {},
   "source": [
    "# Passo 2 - Pegar os dados do Yahoo Finance"
   ]
  },
  {
   "cell_type": "code",
   "execution_count": null,
   "id": "474bb306-19ef-4eb3-b434-18d0d3322ca1",
   "metadata": {},
   "outputs": [],
   "source": [
    "ticker = \"ALPA4.SA\"\n",
    "tabela_de_dados = yf.download(ticker, start = \"2021-05-27\", end = \"2025-04-30\", auto_adjust = False)\n",
    "\n",
    "tabela_de_dados"
   ]
  },
  {
   "cell_type": "markdown",
   "id": "0bf02fe2-1f34-43b9-9331-12fcebf9fe39",
   "metadata": {},
   "source": [
    "# Passo 3 - Definir as janelas das médias móveis"
   ]
  },
  {
   "cell_type": "code",
   "execution_count": null,
   "id": "f8e9b13b-94d9-4c42-abf9-ee4b37312336",
   "metadata": {},
   "outputs": [],
   "source": [
    "janela_rapida = 7\n",
    "janela_lenta = 40"
   ]
  },
  {
   "cell_type": "markdown",
   "id": "2d99b6cd-ec96-473e-bf0a-bcad4ca58de7",
   "metadata": {},
   "source": [
    "# Passo 4 - Calcular as médias móveis"
   ]
  },
  {
   "cell_type": "code",
   "execution_count": null,
   "id": "4a308c7f-f655-48f9-9e63-5af4b4e2bcba",
   "metadata": {},
   "outputs": [],
   "source": [
    "tabela_de_dados[\"Média Rápida\"] = tabela_de_dados[\"Adj Close\"].rolling(window = janela_rapida).mean()\n",
    "tabela_de_dados[\"Média Lenta\"] = tabela_de_dados[\"Adj Close\"].rolling(window = janela_lenta).mean()\n",
    "\n",
    "tabela_de_dados"
   ]
  },
  {
   "cell_type": "markdown",
   "id": "b8364a8d-e2dd-4ae9-9fe6-11060a5a8349",
   "metadata": {},
   "source": [
    "# Passo 5 - Calcular o retorno diário da ação"
   ]
  },
  {
   "cell_type": "code",
   "execution_count": null,
   "id": "73712b27-d4f1-4f4e-989c-ec5738e26b03",
   "metadata": {},
   "outputs": [],
   "source": [
    "tabela_de_dados[\"retorno_diario\"] = tabela_de_dados[\"Adj Close\"].pct_change()\n",
    "tabela_de_dados = tabela_de_dados.dropna()\n",
    "\n",
    "tabela_de_dados"
   ]
  },
  {
   "cell_type": "markdown",
   "id": "3f14507a-9354-4995-86b7-c5edf6409084",
   "metadata": {},
   "source": [
    "# Passo 6 - Criar os sinais de compra ou venda"
   ]
  },
  {
   "cell_type": "code",
   "execution_count": null,
   "id": "16bba4ad-eb55-40bc-9894-f6328bd96664",
   "metadata": {},
   "outputs": [],
   "source": [
    "#se eu tiver comprado, 1\n",
    "#se eu tiver neutro é 0\n",
    "#se eu tiver vendido é -1\n",
    "\n",
    "tabela_de_dados[\"comprado_ou_vendido\"] = 0\n",
    "tabela_de_dados[\"comprado_ou_vendido\"] = np.where(tabela_de_dados[\"Média Rápida\"] > tabela_de_dados[\"Média Lenta\"], 1, -1)\n",
    "tabela_de_dados"
   ]
  },
  {
   "cell_type": "code",
   "execution_count": null,
   "id": "0d6bb61e-c429-4651-b9a8-ffcf6ba0b648",
   "metadata": {},
   "outputs": [],
   "source": [
    "tabela_de_dados[\"comprado_ou_vendido\"] = tabela_de_dados[\"comprado_ou_vendido\"].shift(1)\n",
    "tabela_de_dados"
   ]
  },
  {
   "cell_type": "code",
   "execution_count": null,
   "id": "81405596-39a5-413d-8a14-83cd41c18ebb",
   "metadata": {},
   "outputs": [],
   "source": [
    "tabela_de_dados"
   ]
  },
  {
   "cell_type": "markdown",
   "id": "540ef18c-9616-4ede-8fad-d18ee280d03e",
   "metadata": {},
   "source": [
    "# Passo 7 - Calcular o retorno do modelo"
   ]
  },
  {
   "cell_type": "code",
   "execution_count": null,
   "id": "66a56d86-ce3d-4c60-ac1a-77caaa5bbb6c",
   "metadata": {},
   "outputs": [],
   "source": [
    "tabela_de_dados[\"retorno_modelo\"] = tabela_de_dados[\"retorno_diario\"] * tabela_de_dados[\"comprado_ou_vendido\"]\n",
    "tabela_de_dados[\"retorno_acumulado_modelo\"] = (1 + tabela_de_dados[\"retorno_modelo\"]).cumprod() - 1"
   ]
  },
  {
   "cell_type": "code",
   "execution_count": null,
   "id": "94e8c249-72a7-43c2-9851-ee77fe332f67",
   "metadata": {},
   "outputs": [],
   "source": [
    "tabela_de_dados"
   ]
  },
  {
   "cell_type": "markdown",
   "id": "1b1ac2dc-45f4-4f30-bfc1-7b80c8fcbae4",
   "metadata": {},
   "source": [
    "# Passo 8 - Calcular o retorno da ação e do Ibovespa no mesmo período"
   ]
  },
  {
   "cell_type": "code",
   "execution_count": 30,
   "id": "b056a4ca-9fa7-4f41-b023-79604a9a4376",
   "metadata": {},
   "outputs": [],
   "source": [
    "tabela_de_dados[\"retorno_acum_acao\"] = (1 + tabela_de_dados[\"retorno_diario\"]).cumprod() - 1"
   ]
  },
  {
   "cell_type": "code",
   "execution_count": null,
   "id": "61a031af-db21-43cd-8553-8864adb2d91c",
   "metadata": {},
   "outputs": [],
   "source": [
    "ibov = yf.download(\"^BVSP\", start = tabela_de_dados.index[0], \n",
    "                   end = \"2025-04-30\", auto_adjust = False)[\"Adj Close\"]\n",
    "\n",
    "ibov"
   ]
  },
  {
   "cell_type": "code",
   "execution_count": null,
   "id": "54e3ad4b-f847-48ee-a731-3fd70fe9ca3c",
   "metadata": {},
   "outputs": [],
   "source": [
    "tabela_de_dados[\"retorno_ibov\"] = ibov.pct_change().values\n",
    "\n",
    "tabela_de_dados"
   ]
  },
  {
   "cell_type": "code",
   "execution_count": null,
   "id": "c932a1f5-3dd3-4b97-9c2f-0c09e02d60fa",
   "metadata": {},
   "outputs": [],
   "source": [
    "tabela_de_dados[\"retorno_acum_ibov\"] = (1 + tabela_de_dados[\"retorno_ibov\"]).cumprod() - 1"
   ]
  },
  {
   "cell_type": "markdown",
   "id": "c393dae7-3da9-4d68-bc20-f8fda9d0a54a",
   "metadata": {},
   "source": [
    "# Passo 9 - Criar o gráfico de retornos para observar o resultado da estratégia."
   ]
  },
  {
   "cell_type": "code",
   "execution_count": 31,
   "id": "0da5345e-7cc8-4895-887b-0b021a7f3213",
   "metadata": {},
   "outputs": [
    {
     "data": {
      "image/png": "[encoded data removed]",
      "text/plain": [
       "<Figure size 1400x700 with 1 Axes>"
      ]
     },
     "metadata": {},
     "output_type": "display_data"
    }
   ],
   "source": [
    "plt.figure(figsize = (14, 7))\n",
    "plt.plot(tabela_de_dados[\"retorno_acumulado_modelo\"], label = \"Estratégia\")\n",
    "plt.plot(tabela_de_dados[\"retorno_acum_acao\"], label = \"Ação\")\n",
    "plt.plot(tabela_de_dados[\"retorno_acum_ibov\"], label = \"Ibovespa\")\n",
    "plt.legend()\n",
    "plt.show()"
   ]
  },
  {
   "cell_type": "code",
   "execution_count": 32,
   "id": "ccb3a6db-1ca9-4113-b734-fc9aa62be512",
   "metadata": {},
   "outputs": [
    {
     "data": {
      "text/html": [
       "<div>\n",
       "<style scoped>\n",
       "    .dataframe tbody tr th:only-of-type {\n",
       "        vertical-align: middle;\n",
       "    }\n",
       "\n",
       "    .dataframe tbody tr th {\n",
       "        vertical-align: top;\n",
       "    }\n",
       "\n",
       "    .dataframe thead tr th {\n",
       "        text-align: left;\n",
       "    }\n",
       "\n",
       "    .dataframe thead tr:last-of-type th {\n",
       "        text-align: right;\n",
       "    }\n",
       "</style>\n",
       "<table border=\"1\" class=\"dataframe\">\n",
       "  <thead>\n",
       "    <tr>\n",
       "      <th>Price</th>\n",
       "      <th>Adj Close</th>\n",
       "      <th>Close</th>\n",
       "      <th>High</th>\n",
       "      <th>Low</th>\n",
       "      <th>Open</th>\n",
       "      <th>Volume</th>\n",
       "      <th>Média Rápida</th>\n",
       "      <th>Média Lenta</th>\n",
       "      <th>retorno_diario</th>\n",
       "      <th>comprado_ou_vendido</th>\n",
       "      <th>retorno_modelo</th>\n",
       "      <th>retorno_acumulado_modelo</th>\n",
       "      <th>retorno_ibov</th>\n",
       "      <th>retorno_acum_ibov</th>\n",
       "      <th>retorno_acum_acao</th>\n",
       "    </tr>\n",
       "    <tr>\n",
       "      <th>Ticker</th>\n",
       "      <th>ALPA4.SA</th>\n",
       "      <th>ALPA4.SA</th>\n",
       "      <th>ALPA4.SA</th>\n",
       "      <th>ALPA4.SA</th>\n",
       "      <th>ALPA4.SA</th>\n",
       "      <th>ALPA4.SA</th>\n",
       "      <th></th>\n",
       "      <th></th>\n",
       "      <th></th>\n",
       "      <th></th>\n",
       "      <th></th>\n",
       "      <th></th>\n",
       "      <th></th>\n",
       "      <th></th>\n",
       "      <th></th>\n",
       "    </tr>\n",
       "    <tr>\n",
       "      <th>Date</th>\n",
       "      <th></th>\n",
       "      <th></th>\n",
       "      <th></th>\n",
       "      <th></th>\n",
       "      <th></th>\n",
       "      <th></th>\n",
       "      <th></th>\n",
       "      <th></th>\n",
       "      <th></th>\n",
       "      <th></th>\n",
       "      <th></th>\n",
       "      <th></th>\n",
       "      <th></th>\n",
       "      <th></th>\n",
       "      <th></th>\n",
       "    </tr>\n",
       "  </thead>\n",
       "  <tbody>\n",
       "    <tr>\n",
       "      <th>2021-07-23</th>\n",
       "      <td>51.019665</td>\n",
       "      <td>52.449509</td>\n",
       "      <td>53.009075</td>\n",
       "      <td>52.039825</td>\n",
       "      <td>52.749275</td>\n",
       "      <td>1268778</td>\n",
       "      <td>50.890529</td>\n",
       "      <td>48.703417</td>\n",
       "      <td>-0.003607</td>\n",
       "      <td>NaN</td>\n",
       "      <td>NaN</td>\n",
       "      <td>NaN</td>\n",
       "      <td>NaN</td>\n",
       "      <td>NaN</td>\n",
       "      <td>-0.003607</td>\n",
       "    </tr>\n",
       "    <tr>\n",
       "      <th>2021-07-26</th>\n",
       "      <td>50.446190</td>\n",
       "      <td>51.859962</td>\n",
       "      <td>52.969109</td>\n",
       "      <td>51.670109</td>\n",
       "      <td>52.969109</td>\n",
       "      <td>1088239</td>\n",
       "      <td>50.846095</td>\n",
       "      <td>48.847271</td>\n",
       "      <td>-0.011240</td>\n",
       "      <td>1.0</td>\n",
       "      <td>-0.011240</td>\n",
       "      <td>-0.011240</td>\n",
       "      <td>0.007605</td>\n",
       "      <td>0.007605</td>\n",
       "      <td>-0.014806</td>\n",
       "    </tr>\n",
       "    <tr>\n",
       "      <th>2021-07-27</th>\n",
       "      <td>50.271233</td>\n",
       "      <td>51.680103</td>\n",
       "      <td>51.829987</td>\n",
       "      <td>50.590942</td>\n",
       "      <td>51.700089</td>\n",
       "      <td>2018557</td>\n",
       "      <td>50.782222</td>\n",
       "      <td>48.961236</td>\n",
       "      <td>-0.003468</td>\n",
       "      <td>1.0</td>\n",
       "      <td>-0.003468</td>\n",
       "      <td>-0.014669</td>\n",
       "      <td>-0.011047</td>\n",
       "      <td>-0.003527</td>\n",
       "      <td>-0.018223</td>\n",
       "    </tr>\n",
       "    <tr>\n",
       "      <th>2021-07-28</th>\n",
       "      <td>50.125431</td>\n",
       "      <td>51.530216</td>\n",
       "      <td>52.149738</td>\n",
       "      <td>50.980640</td>\n",
       "      <td>51.620148</td>\n",
       "      <td>2620821</td>\n",
       "      <td>50.660028</td>\n",
       "      <td>49.065239</td>\n",
       "      <td>-0.002900</td>\n",
       "      <td>1.0</td>\n",
       "      <td>-0.002900</td>\n",
       "      <td>-0.017527</td>\n",
       "      <td>0.013434</td>\n",
       "      <td>0.009860</td>\n",
       "      <td>-0.021071</td>\n",
       "    </tr>\n",
       "    <tr>\n",
       "      <th>2021-07-29</th>\n",
       "      <td>49.804680</td>\n",
       "      <td>51.200474</td>\n",
       "      <td>51.959885</td>\n",
       "      <td>50.880718</td>\n",
       "      <td>51.410313</td>\n",
       "      <td>1792482</td>\n",
       "      <td>50.462854</td>\n",
       "      <td>49.141297</td>\n",
       "      <td>-0.006399</td>\n",
       "      <td>1.0</td>\n",
       "      <td>-0.006399</td>\n",
       "      <td>-0.023814</td>\n",
       "      <td>-0.004838</td>\n",
       "      <td>0.004974</td>\n",
       "      <td>-0.027335</td>\n",
       "    </tr>\n",
       "    <tr>\n",
       "      <th>...</th>\n",
       "      <td>...</td>\n",
       "      <td>...</td>\n",
       "      <td>...</td>\n",
       "      <td>...</td>\n",
       "      <td>...</td>\n",
       "      <td>...</td>\n",
       "      <td>...</td>\n",
       "      <td>...</td>\n",
       "      <td>...</td>\n",
       "      <td>...</td>\n",
       "      <td>...</td>\n",
       "      <td>...</td>\n",
       "      <td>...</td>\n",
       "      <td>...</td>\n",
       "      <td>...</td>\n",
       "    </tr>\n",
       "    <tr>\n",
       "      <th>2025-04-23</th>\n",
       "      <td>7.140000</td>\n",
       "      <td>7.140000</td>\n",
       "      <td>7.330000</td>\n",
       "      <td>7.120000</td>\n",
       "      <td>7.210000</td>\n",
       "      <td>3467800</td>\n",
       "      <td>7.242857</td>\n",
       "      <td>6.932408</td>\n",
       "      <td>-0.002793</td>\n",
       "      <td>1.0</td>\n",
       "      <td>-0.002793</td>\n",
       "      <td>1.437738</td>\n",
       "      <td>0.013429</td>\n",
       "      <td>0.057280</td>\n",
       "      <td>-0.860559</td>\n",
       "    </tr>\n",
       "    <tr>\n",
       "      <th>2025-04-24</th>\n",
       "      <td>7.340000</td>\n",
       "      <td>7.340000</td>\n",
       "      <td>7.400000</td>\n",
       "      <td>7.190000</td>\n",
       "      <td>7.220000</td>\n",
       "      <td>1789900</td>\n",
       "      <td>7.251429</td>\n",
       "      <td>6.949929</td>\n",
       "      <td>0.028011</td>\n",
       "      <td>1.0</td>\n",
       "      <td>0.028011</td>\n",
       "      <td>1.506022</td>\n",
       "      <td>0.017880</td>\n",
       "      <td>0.076184</td>\n",
       "      <td>-0.856653</td>\n",
       "    </tr>\n",
       "    <tr>\n",
       "      <th>2025-04-25</th>\n",
       "      <td>7.390000</td>\n",
       "      <td>7.390000</td>\n",
       "      <td>7.470000</td>\n",
       "      <td>7.250000</td>\n",
       "      <td>7.350000</td>\n",
       "      <td>1243000</td>\n",
       "      <td>7.252857</td>\n",
       "      <td>6.972388</td>\n",
       "      <td>0.006812</td>\n",
       "      <td>1.0</td>\n",
       "      <td>0.006812</td>\n",
       "      <td>1.523093</td>\n",
       "      <td>0.001181</td>\n",
       "      <td>0.077455</td>\n",
       "      <td>-0.855676</td>\n",
       "    </tr>\n",
       "    <tr>\n",
       "      <th>2025-04-28</th>\n",
       "      <td>7.350000</td>\n",
       "      <td>7.350000</td>\n",
       "      <td>7.470000</td>\n",
       "      <td>7.200000</td>\n",
       "      <td>7.350000</td>\n",
       "      <td>1558200</td>\n",
       "      <td>7.251429</td>\n",
       "      <td>6.988684</td>\n",
       "      <td>-0.005413</td>\n",
       "      <td>1.0</td>\n",
       "      <td>-0.005413</td>\n",
       "      <td>1.509436</td>\n",
       "      <td>0.002056</td>\n",
       "      <td>0.079670</td>\n",
       "      <td>-0.856457</td>\n",
       "    </tr>\n",
       "    <tr>\n",
       "      <th>2025-04-29</th>\n",
       "      <td>7.380000</td>\n",
       "      <td>7.380000</td>\n",
       "      <td>7.540000</td>\n",
       "      <td>7.280000</td>\n",
       "      <td>7.310000</td>\n",
       "      <td>1554600</td>\n",
       "      <td>7.284286</td>\n",
       "      <td>7.014090</td>\n",
       "      <td>0.004082</td>\n",
       "      <td>1.0</td>\n",
       "      <td>0.004082</td>\n",
       "      <td>1.519679</td>\n",
       "      <td>0.000570</td>\n",
       "      <td>0.080286</td>\n",
       "      <td>-0.855872</td>\n",
       "    </tr>\n",
       "  </tbody>\n",
       "</table>\n",
       "<p>939 rows × 15 columns</p>\n",
       "</div>"
      ],
      "text/plain": [
       "Price       Adj Close      Close       High        Low       Open   Volume  \\\n",
       "Ticker       ALPA4.SA   ALPA4.SA   ALPA4.SA   ALPA4.SA   ALPA4.SA ALPA4.SA   \n",
       "Date                                                                         \n",
       "2021-07-23  51.019665  52.449509  53.009075  52.039825  52.749275  1268778   \n",
       "2021-07-26  50.446190  51.859962  52.969109  51.670109  52.969109  1088239   \n",
       "2021-07-27  50.271233  51.680103  51.829987  50.590942  51.700089  2018557   \n",
       "2021-07-28  50.125431  51.530216  52.149738  50.980640  51.620148  2620821   \n",
       "2021-07-29  49.804680  51.200474  51.959885  50.880718  51.410313  1792482   \n",
       "...               ...        ...        ...        ...        ...      ...   \n",
       "2025-04-23   7.140000   7.140000   7.330000   7.120000   7.210000  3467800   \n",
       "2025-04-24   7.340000   7.340000   7.400000   7.190000   7.220000  1789900   \n",
       "2025-04-25   7.390000   7.390000   7.470000   7.250000   7.350000  1243000   \n",
       "2025-04-28   7.350000   7.350000   7.470000   7.200000   7.350000  1558200   \n",
       "2025-04-29   7.380000   7.380000   7.540000   7.280000   7.310000  1554600   \n",
       "\n",
       "Price      Média Rápida Média Lenta retorno_diario comprado_ou_vendido  \\\n",
       "Ticker                                                                   \n",
       "Date                                                                     \n",
       "2021-07-23    50.890529   48.703417      -0.003607                 NaN   \n",
       "2021-07-26    50.846095   48.847271      -0.011240                 1.0   \n",
       "2021-07-27    50.782222   48.961236      -0.003468                 1.0   \n",
       "2021-07-28    50.660028   49.065239      -0.002900                 1.0   \n",
       "2021-07-29    50.462854   49.141297      -0.006399                 1.0   \n",
       "...                 ...         ...            ...                 ...   \n",
       "2025-04-23     7.242857    6.932408      -0.002793                 1.0   \n",
       "2025-04-24     7.251429    6.949929       0.028011                 1.0   \n",
       "2025-04-25     7.252857    6.972388       0.006812                 1.0   \n",
       "2025-04-28     7.251429    6.988684      -0.005413                 1.0   \n",
       "2025-04-29     7.284286    7.014090       0.004082                 1.0   \n",
       "\n",
       "Price      retorno_modelo retorno_acumulado_modelo retorno_ibov  \\\n",
       "Ticker                                                            \n",
       "Date                                                              \n",
       "2021-07-23            NaN                      NaN          NaN   \n",
       "2021-07-26      -0.011240                -0.011240     0.007605   \n",
       "2021-07-27      -0.003468                -0.014669    -0.011047   \n",
       "2021-07-28      -0.002900                -0.017527     0.013434   \n",
       "2021-07-29      -0.006399                -0.023814    -0.004838   \n",
       "...                   ...                      ...          ...   \n",
       "2025-04-23      -0.002793                 1.437738     0.013429   \n",
       "2025-04-24       0.028011                 1.506022     0.017880   \n",
       "2025-04-25       0.006812                 1.523093     0.001181   \n",
       "2025-04-28      -0.005413                 1.509436     0.002056   \n",
       "2025-04-29       0.004082                 1.519679     0.000570   \n",
       "\n",
       "Price      retorno_acum_ibov retorno_acum_acao  \n",
       "Ticker                                          \n",
       "Date                                            \n",
       "2021-07-23               NaN         -0.003607  \n",
       "2021-07-26          0.007605         -0.014806  \n",
       "2021-07-27         -0.003527         -0.018223  \n",
       "2021-07-28          0.009860         -0.021071  \n",
       "2021-07-29          0.004974         -0.027335  \n",
       "...                      ...               ...  \n",
       "2025-04-23          0.057280         -0.860559  \n",
       "2025-04-24          0.076184         -0.856653  \n",
       "2025-04-25          0.077455         -0.855676  \n",
       "2025-04-28          0.079670         -0.856457  \n",
       "2025-04-29          0.080286         -0.855872  \n",
       "\n",
       "[939 rows x 15 columns]"
      ]
     },
     "execution_count": 32,
     "metadata": {},
     "output_type": "execute_result"
    }
   ],
   "source": [
    "tabela_de_dados"
   ]
  },
  {
   "cell_type": "markdown",
   "id": "dc3b495b-c287-4720-b24d-e9b58501360a",
   "metadata": {},
   "source": [
    "# Passo 10: Otimizar os resultados"
   ]
  },
  {
   "cell_type": "code",
   "execution_count": null,
   "id": "91e30623-1521-49cd-adaf-d70698f30922",
   "metadata": {},
   "outputs": [],
   "source": []
  },
  {
   "cell_type": "code",
   "execution_count": null,
   "id": "b0794a4b-e9ab-4583-8c5b-893050aabbee",
   "metadata": {},
   "outputs": [],
   "source": []
  },
  {
   "cell_type": "code",
   "execution_count": null,
   "id": "1824a88b-f627-4e99-a85c-d5a9a6b82275",
   "metadata": {},
   "outputs": [],
   "source": []
  },
  {
   "cell_type": "code",
   "execution_count": null,
   "id": "2cc1af80-871b-4f1d-b635-4b60cc8017d2",
   "metadata": {},
   "outputs": [],
   "source": []
  },
  {
   "cell_type": "code",
   "execution_count": null,
   "id": "e3d69cb2-1577-4147-9bfe-7c552945ad39",
   "metadata": {},
   "outputs": [],
   "source": []
  },
  {
   "cell_type": "code",
   "execution_count": null,
   "id": "e1753e0c-e185-4577-9382-eec1a27dbb7b",
   "metadata": {},
   "outputs": [],
   "source": []
  },
  {
   "cell_type": "code",
   "execution_count": null,
   "id": "28e7387d-18c7-46d6-ae70-e062ee478cac",
   "metadata": {},
   "outputs": [],
   "source": []
  },
  {
   "cell_type": "code",
   "execution_count": null,
   "id": "76168268-a768-44d3-8bcf-a713d0bc79cc",
   "metadata": {},
   "outputs": [],
   "source": []
  },
  {
   "cell_type": "code",
   "execution_count": null,
   "id": "e59236b2-ebad-4fcc-92f3-ffc9c0cf476f",
   "metadata": {},
   "outputs": [],
   "source": []
  },
  {
   "cell_type": "code",
   "execution_count": null,
   "id": "097afba7-2ae1-4b5d-b96b-3c197378187d",
   "metadata": {},
   "outputs": [],
   "source": []
  }
 ],
 "metadata": {
  "kernelspec": {
   "display_name": "Python 3 (ipykernel)",
   "language": "python",
   "name": "python3"
  },
  "language_info": {
   "codemirror_mode": {
    "name": "ipython",
    "version": 3
   },
   "file_extension": ".py",
   "mimetype": "text/x-python",
   "name": "python",
   "nbconvert_exporter": "python",
   "pygments_lexer": "ipython3",
   "version": "3.11.7"
  },
  "widgets": {
   "application/vnd.jupyter.widget-state+json": {
    "state": {},
    "version_major": 2,
    "version_minor": 0
   }
  }
 },
 "nbformat": 4,
 "nbformat_minor": 5
}
